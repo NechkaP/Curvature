{
 "cells": [
  {
   "cell_type": "markdown",
   "metadata": {},
   "source": [
    "## Исследование коннектомов с помощью вычисления геометрических характеристик\n",
    "### A Study of Connectomes by Calculating Geometric Characteristics"
   ]
  },
  {
   "cell_type": "markdown",
   "metadata": {},
   "source": [
    "### Источники: \n",
    "1.\tFarooq H., Chen Y., Tryphon T.G., Tannenbaum A., Lenglet C. Network Curvature as a Hallmark of Brain Structural Connectivity\n",
    "2.\tLiu S. Synthetic notions of curvature and applications in graph theory\n",
    "3.\tPeyerimhoff, N. Curvature notions on graphs. Leeds summer school"
   ]
  },
  {
   "cell_type": "code",
   "execution_count": 1,
   "metadata": {},
   "outputs": [],
   "source": [
    "import numpy as np"
   ]
  },
  {
   "cell_type": "markdown",
   "metadata": {},
   "source": [
    "## Теоретическая часть из [2]"
   ]
  },
  {
   "cell_type": "markdown",
   "metadata": {},
   "source": [
    "Пусть $G = (V, E)$ - связный неориентированный взвешенный граф. Наличие петель не исключено. Граф (локально) конечен, то есть конечно количество ребер, выходящих из каждой вершины. Степень вершины $d_x$ определяется как $\\sum_{y \\in V} w_{xy}$ для каждой из вершин $x \\in V$.\n",
    "\n",
    "Кривизна Оливье-Риччи определяется в метрическом пространстве $(X, d)$, где каждой точке $x \\in X$ соответствует вероятностная мера $m_x(\\cdot)$. Эта структура обозначается как $(X, d, m)$. Но нам достаточно использовать $(V, d, m)$, где $V$ --- множество вершин графа.\n",
    "\n",
    "Для (локально) конечного графа $G = (V, E)$ определим метрику $d$ на множестве вершин $V$ следующим образом. Для соседних вершин $x, y$, $d(x, y) = 1$. Для различных вершин $x, y$, $d(x, y)$ есть длина кратчайшего пути в графе между ними (количество ребер). Каждой вершине присвоим вероятностную меру $$m_x(y) = \\begin{cases} \\frac{w_{xy}}{d_x}, \\text{ если } y \\sim x; \\\\ 0, \\text{ иначе.} \\end{cases}$$\n",
    "\n",
    "Интуитивным представлением может быть random walker, который изначально находится в $x$, а затем выбирает между соседями $x$ с одинаковой вероятностью $\\frac{w_{xy}}{d_x}$. \n",
    "\n",
    "**Определение.** (Оливье). На $(X, d, m)$ для двух различных точек $x, y \\in X$ кривизна (Оливье-)Риччи по $(xy)$ определяется как $$\\kappa(x, y) = 1 - \\frac{W_1(m_x, m_y)}{d(x, y)}.$$ \n",
    "\n",
    "**Замечание.** Перечислим несколько базовых наблюдений о кривизне:\n",
    "* $\\kappa(x, y) \\leq 1$\n",
    "* Определение можно переписать следующим образом: $W_1(m_x, m_y) = d(x, y)(1 - \\kappa(x, y))$\n",
    "* Если $k$ --- нижняя грань $\\kappa(x,y)$, то есть $\\kappa(x, y) \\geq k$, то из этого следует неравенство $W_1(m_x, m_y) \\leq (1-k)d(x, y)$.\n",
    "\n",
    "\n"
   ]
  },
  {
   "cell_type": "markdown",
   "metadata": {},
   "source": [
    "### Программа-аналог, описанная в [3]\n",
    "находится по ссылке: http://www.maths.dur.ac.uk/~dma0np/epsrc2013/software/david_cushing_2/graphcurv.html\n",
    "\n",
    "Отличается тем, что находит много видов кривизны, но, видимо, только по графам, которые юзер рисует, а матрицу загрузить некуда. Веса, судя по интерфейсу и help, тоже не задаются, все подсчеты по матрице смежности из 0 и 1."
   ]
  },
  {
   "cell_type": "markdown",
   "metadata": {},
   "source": [
    "### TODO: \n",
    "Что нужно сделать – реализовать вычисление кривизны графа двумя способами:\n",
    "\n",
    "a) если матрица инцидентности задана с действительными весами, и мы ее такой оставляем\n",
    "\n",
    "b) если значения округляются (от 0,65 типа ребро есть, ставим 1, иначе 0)."
   ]
  },
  {
   "cell_type": "markdown",
   "metadata": {},
   "source": [
    "### 1. Чтение матрицы инцидентности графа"
   ]
  },
  {
   "cell_type": "code",
   "execution_count": 2,
   "metadata": {},
   "outputs": [
    {
     "name": "stdout",
     "output_type": "stream",
     "text": [
      "Введите количество вершин в графе: 5\n",
      "0.1 0.2 0.3 0.4 0.5 0.2 0.6 0.7 0.2 1 0.3 0.7 0 0.4 0.3 0.4 0.2 0.4 0.5 0.7 0.5 1 0.3 0.7 0.57\n",
      "[[0.1  0.2  0.3  0.4  0.5 ]\n",
      " [0.2  0.6  0.7  0.2  1.  ]\n",
      " [0.3  0.7  0.   0.4  0.3 ]\n",
      " [0.4  0.2  0.4  0.5  0.7 ]\n",
      " [0.5  1.   0.3  0.7  0.57]]\n"
     ]
    }
   ],
   "source": [
    "# вариант с чтением из консоли, для тестирования наглядно\n",
    "N = int(input(\"Введите количество вершин в графе: \")) # размер матрицы\n",
    "\n",
    "M = np.zeros(shape = (N, N), dtype = float)\n",
    "nums = list(map(float, input().split()))\n",
    "for i in range(N):\n",
    "    for j in range(N):\n",
    "        M[i][j] = nums[i * N + j]\n",
    "print(M)"
   ]
  },
  {
   "cell_type": "code",
   "execution_count": 3,
   "metadata": {},
   "outputs": [
    {
     "name": "stdout",
     "output_type": "stream",
     "text": [
      "[[0.1  0.2  0.3  0.4  0.5 ]\n",
      " [0.2  0.6  0.7  0.2  1.  ]\n",
      " [0.3  0.7  0.   0.4  0.3 ]\n",
      " [0.4  0.2  0.4  0.5  0.7 ]\n",
      " [0.5  1.   0.3  0.7  0.57]]\n"
     ]
    }
   ],
   "source": [
    "# вариант с файловым вводом, для бОльших данных\n",
    "# Пока что взяла просто какую-то симметричную матрицу небольшого размера, чтобы смотреть, как работают методы.\n",
    "file = open(\"data.txt\", \"r\")\n",
    "data = []\n",
    "for line in file:\n",
    "    nums = list(map(float, line.split()))\n",
    "    data.append(nums)\n",
    "\n",
    "M = np.array(data)\n",
    "N = M.shape[0]\n",
    "print(M)"
   ]
  },
  {
   "cell_type": "markdown",
   "metadata": {},
   "source": [
    "Округлим значения в матрице: для значений, не меньших 0.65, поменяем на 1, иначе оставим 0."
   ]
  },
  {
   "cell_type": "code",
   "execution_count": 4,
   "metadata": {},
   "outputs": [
    {
     "name": "stdout",
     "output_type": "stream",
     "text": [
      "[[0. 0. 0. 0. 0.]\n",
      " [0. 0. 1. 0. 1.]\n",
      " [0. 1. 0. 0. 0.]\n",
      " [0. 0. 0. 0. 1.]\n",
      " [0. 1. 0. 1. 0.]]\n"
     ]
    }
   ],
   "source": [
    "M_rounded = np.zeros(shape = (N, N), dtype = float)\n",
    "for i in range(N):\n",
    "    for j in range(N):\n",
    "        if M[i][j] >= 0.65:\n",
    "            M_rounded[i][j] = 1\n",
    "print(M_rounded)"
   ]
  },
  {
   "cell_type": "markdown",
   "metadata": {},
   "source": [
    "### 2. Вычислим кривизну Оливье-Риччи:\n"
   ]
  },
  {
   "cell_type": "markdown",
   "metadata": {},
   "source": [
    "Метод для вычисления степени вершины по формуле (параметры - матрица, ее размер и номер вершины от 1 до $N$):\n",
    "    $$d_x = \\sum_{y \\in V} w_{xy}$$\n",
    "    \n",
    "Эта же величина называется *node strength* в [1]."
   ]
  },
  {
   "cell_type": "code",
   "execution_count": 32,
   "metadata": {},
   "outputs": [],
   "source": [
    "def degree(M, index):\n",
    "    N = M.shape[0]\n",
    "    d = 0.0\n",
    "    for j in range(N):\n",
    "        d += M[index - 1][j]\n",
    "    return d"
   ]
  },
  {
   "cell_type": "code",
   "execution_count": 33,
   "metadata": {},
   "outputs": [
    {
     "name": "stdout",
     "output_type": "stream",
     "text": [
      "2.7\n"
     ]
    }
   ],
   "source": [
    "print(degree(M, 2))"
   ]
  },
  {
   "cell_type": "markdown",
   "metadata": {},
   "source": [
    "Метод для вычисления попарных расстояний $d(x, y)$ между вершинами графа. Используется алгоритм Флойда. Граф должен быть без петель (это надо уточнить). Должно хватать замены диагональных элементов на нули, так как петля с положительным расстоянием не может повлиять на кратчайший путь (очевидно?)"
   ]
  },
  {
   "cell_type": "code",
   "execution_count": 34,
   "metadata": {},
   "outputs": [],
   "source": [
    "def distances(M):\n",
    "    N = M.shape[0]\n",
    "    # подготовка матрицы\n",
    "    d = np.array(M)\n",
    "    for i in range(N):\n",
    "        d[i][i] = 0\n",
    "        for j in range(N):\n",
    "            if d[i][j] > 0:\n",
    "                d[i][j] = 1\n",
    "    for k in range(N):\n",
    "        for i in range(N):\n",
    "            for j in range(N):\n",
    "                d[i][j] = min(d[i][j], d[i][k] + d[k][j])\n",
    "    return d"
   ]
  },
  {
   "cell_type": "code",
   "execution_count": 35,
   "metadata": {},
   "outputs": [
    {
     "data": {
      "text/plain": [
       "array([[0., 1., 1., 1., 1.],\n",
       "       [1., 0., 1., 1., 1.],\n",
       "       [1., 1., 0., 1., 1.],\n",
       "       [1., 1., 1., 0., 1.],\n",
       "       [1., 1., 1., 1., 0.]])"
      ]
     },
     "execution_count": 35,
     "metadata": {},
     "output_type": "execute_result"
    }
   ],
   "source": [
    "d = distances(M)\n",
    "d"
   ]
  },
  {
   "cell_type": "code",
   "execution_count": 36,
   "metadata": {},
   "outputs": [
    {
     "data": {
      "text/plain": [
       "array([[0.1 , 0.2 , 0.3 , 0.4 , 0.5 ],\n",
       "       [0.2 , 0.6 , 0.7 , 0.2 , 1.  ],\n",
       "       [0.3 , 0.7 , 0.  , 0.4 , 0.3 ],\n",
       "       [0.4 , 0.2 , 0.4 , 0.5 , 0.7 ],\n",
       "       [0.5 , 1.  , 0.3 , 0.7 , 0.57]])"
      ]
     },
     "execution_count": 36,
     "metadata": {},
     "output_type": "execute_result"
    }
   ],
   "source": [
    "M # проверка, что матрица не меняется после применения методов"
   ]
  },
  {
   "cell_type": "markdown",
   "metadata": {},
   "source": [
    "Метод для вычисления $m_x(y)$. Случай, когда вершины не соединены, не нужно рассматривать отдельно, так как тогда получится 0 в числителе дроби, а значит и все ее значение будет 0, что соответствует определению."
   ]
  },
  {
   "cell_type": "code",
   "execution_count": 37,
   "metadata": {},
   "outputs": [],
   "source": [
    "def get_m(M):\n",
    "    N = M.shape[0]\n",
    "    M_1 = np.zeros(shape = (N, N), dtype = float)\n",
    "    for i in range(N):\n",
    "        d = degree(M, i)\n",
    "        for j in range(N):\n",
    "            if i != j:\n",
    "                M_1[i][j] = M[i][j] / d\n",
    "            else:\n",
    "                M_1[i][j] = M[i][j]\n",
    "    return M_1"
   ]
  },
  {
   "cell_type": "code",
   "execution_count": 38,
   "metadata": {},
   "outputs": [
    {
     "data": {
      "text/plain": [
       "array([[0.1       , 0.06514658, 0.09771987, 0.13029316, 0.16286645],\n",
       "       [0.13333333, 0.6       , 0.46666667, 0.13333333, 0.66666667],\n",
       "       [0.11111111, 0.25925926, 0.        , 0.14814815, 0.11111111],\n",
       "       [0.23529412, 0.11764706, 0.23529412, 0.5       , 0.41176471],\n",
       "       [0.22727273, 0.45454545, 0.13636364, 0.31818182, 0.57      ]])"
      ]
     },
     "execution_count": 38,
     "metadata": {},
     "output_type": "execute_result"
    }
   ],
   "source": [
    "m = get_m(M)\n",
    "m"
   ]
  },
  {
   "cell_type": "markdown",
   "metadata": {},
   "source": [
    "Метод для вычисления кривизны графа:\n",
    "кривизна (Оливье-)Риччи по $(xy)$ определяется как $$\\kappa(x, y) = 1 - \\frac{W_1(m_x, m_y)}{d(x, y)}.$$ \n",
    "Проверка на наличие ребра не нужна, т.к. в связном графе все расстояния $d(x, y)$ получаются больше 0."
   ]
  },
  {
   "cell_type": "markdown",
   "metadata": {},
   "source": [
    "$W_1$ - \"транспортное\" расстояние (Вассерштейна), см. *Optimal transport problem*, но можно просто взять библиотечную функцию."
   ]
  },
  {
   "cell_type": "code",
   "execution_count": 12,
   "metadata": {},
   "outputs": [],
   "source": [
    "from scipy.stats import wasserstein_distance as w1"
   ]
  },
  {
   "cell_type": "code",
   "execution_count": 39,
   "metadata": {},
   "outputs": [],
   "source": [
    "def curvature(M):\n",
    "    N = M.shape[0]\n",
    "    m = get_m(M)\n",
    "    d = distances(M)\n",
    "    K = np.zeros(shape = (N, N), dtype = float)\n",
    "    for i in range(N):\n",
    "        for j in range(N):\n",
    "            if i != j:\n",
    "                K[i][j] = 1 - (w1(m[i], m[j]) / d[i][j])\n",
    "            \n",
    "    return K"
   ]
  },
  {
   "cell_type": "code",
   "execution_count": 40,
   "metadata": {},
   "outputs": [
    {
     "data": {
      "text/plain": [
       "array([[0.        , 0.71120521, 0.95922065, 0.81120521, 0.76993248],\n",
       "       [0.71120521, 0.        , 0.72592593, 0.85921569, 0.90248485],\n",
       "       [0.95922065, 0.72592593, 0.        , 0.82592593, 0.7846532 ],\n",
       "       [0.81120521, 0.85921569, 0.82592593, 0.        , 0.95551872],\n",
       "       [0.76993248, 0.90248485, 0.7846532 , 0.95551872, 0.        ]])"
      ]
     },
     "execution_count": 40,
     "metadata": {},
     "output_type": "execute_result"
    }
   ],
   "source": [
    "K = curvature(M)\n",
    "K"
   ]
  },
  {
   "cell_type": "markdown",
   "metadata": {},
   "source": [
    "(Скалярная) кривизна вершины (*(scalar) node curvature*) определяется в [1] как сумма значений кривизны всех ребер, выходящих из нее: $$\\kappa_x = \\sum_{y \\in V} \\kappa(x, y)$$\n",
    "\n",
    "Опять же, проверка на наличие ребра в методе пропущена, т.к. кривизна у отсутствующего ребра равна 0."
   ]
  },
  {
   "cell_type": "code",
   "execution_count": 43,
   "metadata": {},
   "outputs": [],
   "source": [
    "def node_curvature(M, index):\n",
    "    N = M.shape[0]\n",
    "    K = curvature(M)\n",
    "    cur = 0.0\n",
    "    for i in range(N):\n",
    "        if i != index:\n",
    "            cur += K[index][i]\n",
    "            \n",
    "    return cur"
   ]
  },
  {
   "cell_type": "code",
   "execution_count": 44,
   "metadata": {},
   "outputs": [
    {
     "data": {
      "text/plain": [
       "3.45186554050436"
      ]
     },
     "execution_count": 44,
     "metadata": {},
     "output_type": "execute_result"
    }
   ],
   "source": [
    "c = node_curvature(M, 3)\n",
    "c"
   ]
  },
  {
   "cell_type": "markdown",
   "metadata": {},
   "source": [
    "Также в [1] отмечают, что может рассматриваться еще и \"взвешенная\" версия определения кривизны в вершине, а именно \n",
    "$$\\bar{\\kappa}_x =  \\sum_{y \\in V} \\frac{w_{xy}}{d_x} \\kappa(x, y)$$\n",
    "\n",
    "Посчитаю и ее"
   ]
  },
  {
   "cell_type": "code",
   "execution_count": 45,
   "metadata": {},
   "outputs": [],
   "source": [
    "def node_curvature_weighted(M, index):\n",
    "    N = M.shape[0]\n",
    "    K = curvature(M)\n",
    "    d = degree(M, index)\n",
    "    cur = 0.0\n",
    "    for i in range(N):\n",
    "        if i != index:\n",
    "            cur += K[index][i]\n",
    "    cur = cur * (M[index][i] / d)\n",
    "    return cur"
   ]
  },
  {
   "cell_type": "code",
   "execution_count": 46,
   "metadata": {},
   "outputs": [
    {
     "data": {
      "text/plain": [
       "1.421356399031207"
      ]
     },
     "execution_count": 46,
     "metadata": {},
     "output_type": "execute_result"
    }
   ],
   "source": [
    "c = node_curvature_weighted(M, 3)\n",
    "c"
   ]
  },
  {
   "cell_type": "markdown",
   "metadata": {},
   "source": [
    "В [1] и [2] также упоминается понятие *local clustering coefficient* - коэффициент кластеризации, выражающий степень связанности между собой соседних с данной вершин. Он вычисляется как частное ребер, соединяющих соседей вершины, и максимального их количества.\n",
    "\n",
    "$$ c(x) = \\frac{\\text{number of edges between neighbors of } x}{\\text{number of possible existing edges between neighbors of } x } = \\frac{1}{d_x(d_x - 1)} \\sum_{y, y\\sim x} \\#(x, y) $$"
   ]
  },
  {
   "cell_type": "code",
   "execution_count": 47,
   "metadata": {},
   "outputs": [],
   "source": [
    "def lcc(M, index):\n",
    "    N = M.shape[0]\n",
    "    e = 0\n",
    "    neigh = []\n",
    "    for i in range(N):\n",
    "        if i != index and M[index][i] != 0:\n",
    "            neigh.append(i)\n",
    "    for x in neigh:\n",
    "        for y in neigh:\n",
    "            if x != y and M[x][y] != 0:\n",
    "                e += 1\n",
    "    print(e)\n",
    "    print(len(neigh))\n",
    "    return e / ((len(neigh) - 1) * len(neigh))"
   ]
  },
  {
   "cell_type": "code",
   "execution_count": 48,
   "metadata": {},
   "outputs": [
    {
     "name": "stdout",
     "output_type": "stream",
     "text": [
      "12\n",
      "4\n"
     ]
    },
    {
     "data": {
      "text/plain": [
       "1.0"
      ]
     },
     "execution_count": 48,
     "metadata": {},
     "output_type": "execute_result"
    }
   ],
   "source": [
    "coef = lcc(M, 3)\n",
    "coef"
   ]
  },
  {
   "cell_type": "markdown",
   "metadata": {},
   "source": [
    "### Curvature with idleness\n",
    "\n",
    "В [3] дается определение кривизны Оливье-Риччи с параметром $p$ бездействия (*idleness*):\n",
    "$$ \\kappa_p (x, y) = 1 - \\frac{W_1(m_x^p, m_y^p)}{d(x, y)}, $$\n",
    "где $$m_x^p(y) = \\begin{cases} p, \\text{ если } x = y, \\\\ \\frac{1 - p}{|x|}, \\text{ если } x \\sim y, \\\\ 0 \\text{ иначе.}\\end{cases}, $$ а $|x|$ обозначает степень вершины $x$, равную количеству выходящих из нее ребер (в отличие от $d_x$, которая зависит от весов ребер).\n",
    "\n",
    "Чтобы вычислять такую кривизну, придется пересчитать степени вершины и вероятностную меру $m_x ^ p$."
   ]
  },
  {
   "cell_type": "markdown",
   "metadata": {},
   "source": [
    "#### Откуда все это берется?\n",
    "\n",
    "Для определения кривизны Оливье-Риччи были введены вероятностные меры, представляющие (метрические) шары вокруг вершин графа. Эти шары должны быть маленькими, но не тривиальными (т.е. радиусы -- небольшие положительные числа). Так как расстояния выражены целыми числами (считаются по количеству ребер), то выбирается радиус 1, что означает, что шар содержит саму центральную вершину $x\\in V$, а также всех ее соседей $y \\in V \\, : \\, y \\sim x$. Тогда множество задействованных вершин обозначается как $B_1(x) = \\{ y \\in V \\, | \\, d(x, y) \\leq 1 \\}$. Чтобы разрешить некоторую \"гибкость\" в связанной с $B_1(x)$ вероятностной мерой, введем параметр $p \\in [0, 1]$, который равен вероятности в центре, для каждой из соседних вершин тогда получим веростность $\\frac{1 - p}{|x|}$. Эти вероятности могут рассматриваться как вероятности перехода из вершины $x$ в случайном блуждании, и тогда $p$ - вероятность, что перехода не было. Поэтому он называется *idleness parameter*."
   ]
  },
  {
   "cell_type": "code",
   "execution_count": 49,
   "metadata": {},
   "outputs": [],
   "source": [
    "def degree_p(M, index):\n",
    "    N = M.shape[0]\n",
    "    d = 0.0\n",
    "    for j in range(N):\n",
    "        if M[index - 1][j] > 0:\n",
    "            d += 1\n",
    "    return d"
   ]
  },
  {
   "cell_type": "code",
   "execution_count": 58,
   "metadata": {},
   "outputs": [],
   "source": [
    "def get_m_p(M, p):\n",
    "    N = M.shape[0]\n",
    "    M_1 = np.zeros(shape = (N, N), dtype = float)\n",
    "    for i in range(N):\n",
    "        d = degree_p(M, i)\n",
    "        for j in range(N):\n",
    "            if i == j:\n",
    "                M_1[i][j] = p\n",
    "            elif M[i][j] > 0:\n",
    "                M_1[i][j] = (1 - p) / d\n",
    "            else:\n",
    "                M_1[i][j] = 0\n",
    "    return M_1"
   ]
  },
  {
   "cell_type": "code",
   "execution_count": 65,
   "metadata": {},
   "outputs": [],
   "source": [
    "def curvature_with_idleness(M, p=0):\n",
    "    N = M.shape[0]\n",
    "    m = get_m_p(M, p)\n",
    "    d = distances(M)\n",
    "    K = np.zeros(shape = (N, N), dtype = float)\n",
    "    for i in range(N):\n",
    "        for j in range(N):\n",
    "            if i != j:\n",
    "                K[i][j] = 1 - (w1(m[i], m[j]) / d[i][j])\n",
    "            \n",
    "    return K\n",
    "    "
   ]
  },
  {
   "cell_type": "code",
   "execution_count": 66,
   "metadata": {},
   "outputs": [
    {
     "data": {
      "text/plain": [
       "array([[0.  , 1.  , 1.  , 0.96, 1.  ],\n",
       "       [1.  , 0.  , 1.  , 0.96, 1.  ],\n",
       "       [1.  , 1.  , 0.  , 0.96, 1.  ],\n",
       "       [0.96, 0.96, 0.96, 0.  , 0.96],\n",
       "       [1.  , 1.  , 1.  , 0.96, 0.  ]])"
      ]
     },
     "execution_count": 66,
     "metadata": {},
     "output_type": "execute_result"
    }
   ],
   "source": [
    "K = curvature_with_idleness(M)\n",
    "K"
   ]
  },
  {
   "cell_type": "code",
   "execution_count": 67,
   "metadata": {},
   "outputs": [
    {
     "data": {
      "text/plain": [
       "array([[0.    , 1.    , 1.    , 0.9604, 1.    ],\n",
       "       [1.    , 0.    , 1.    , 0.9604, 1.    ],\n",
       "       [1.    , 1.    , 0.    , 0.9604, 1.    ],\n",
       "       [0.9604, 0.9604, 0.9604, 0.    , 0.9604],\n",
       "       [1.    , 1.    , 1.    , 0.9604, 0.    ]])"
      ]
     },
     "execution_count": 67,
     "metadata": {},
     "output_type": "execute_result"
    }
   ],
   "source": [
    "K = curvature_with_idleness(M, 0.01)\n",
    "K"
   ]
  },
  {
   "cell_type": "code",
   "execution_count": null,
   "metadata": {},
   "outputs": [],
   "source": []
  }
 ],
 "metadata": {
  "kernelspec": {
   "display_name": "Python 3",
   "language": "python",
   "name": "python3"
  },
  "language_info": {
   "codemirror_mode": {
    "name": "ipython",
    "version": 3
   },
   "file_extension": ".py",
   "mimetype": "text/x-python",
   "name": "python",
   "nbconvert_exporter": "python",
   "pygments_lexer": "ipython3",
   "version": "3.6.9"
  }
 },
 "nbformat": 4,
 "nbformat_minor": 2
}
